{
  "nbformat": 4,
  "nbformat_minor": 0,
  "metadata": {
    "colab": {
      "name": "Copy of CNN Project",
      "provenance": [],
      "collapsed_sections": [],
      "authorship_tag": "ABX9TyMSQRKaFXGpYf77i4VivrGZ",
      "include_colab_link": true
    },
    "kernelspec": {
      "name": "python3",
      "display_name": "Python 3"
    }
  },
  "cells": [
    {
      "cell_type": "markdown",
      "metadata": {
        "id": "view-in-github",
        "colab_type": "text"
      },
      "source": [
        "<a href=\"https://colab.research.google.com/github/vijayinyoutube/CNN/blob/master/Copy_of_CNN_Project.ipynb\" target=\"_parent\"><img src=\"https://colab.research.google.com/assets/colab-badge.svg\" alt=\"Open In Colab\"/></a>"
      ]
    },
    {
      "cell_type": "code",
      "metadata": {
        "id": "tUEXLfYeaFsg",
        "colab_type": "code",
        "colab": {}
      },
      "source": [
        "#Description : Image processing using CNN for vehicle detection\n"
      ],
      "execution_count": 0,
      "outputs": []
    },
    {
      "cell_type": "code",
      "metadata": {
        "id": "M6j4wCG_aNk3",
        "colab_type": "code",
        "outputId": "2b25a669-bcc3-4224-ba56-4696750e3d3c",
        "colab": {
          "base_uri": "https://localhost:8080/",
          "height": 137
        }
      },
      "source": [
        "#Load the data\n",
        "from keras.datasets import cifar10\n",
        "(x_train, y_train), (x_test, y_test) = cifar10.load_data()"
      ],
      "execution_count": 0,
      "outputs": [
        {
          "output_type": "stream",
          "text": [
            "Using TensorFlow backend.\n"
          ],
          "name": "stderr"
        },
        {
          "output_type": "display_data",
          "data": {
            "text/html": [
              "<p style=\"color: red;\">\n",
              "The default version of TensorFlow in Colab will soon switch to TensorFlow 2.x.<br>\n",
              "We recommend you <a href=\"https://www.tensorflow.org/guide/migrate\" target=\"_blank\">upgrade</a> now \n",
              "or ensure your notebook will continue to use TensorFlow 1.x via the <code>%tensorflow_version 1.x</code> magic:\n",
              "<a href=\"https://colab.research.google.com/notebooks/tensorflow_version.ipynb\" target=\"_blank\">more info</a>.</p>\n"
            ],
            "text/plain": [
              "<IPython.core.display.HTML object>"
            ]
          },
          "metadata": {
            "tags": []
          }
        },
        {
          "output_type": "stream",
          "text": [
            "Downloading data from https://www.cs.toronto.edu/~kriz/cifar-10-python.tar.gz\n",
            "170500096/170498071 [==============================] - 4s 0us/step\n"
          ],
          "name": "stdout"
        }
      ]
    },
    {
      "cell_type": "code",
      "metadata": {
        "id": "DHdSAbKcaVYu",
        "colab_type": "code",
        "outputId": "ff89c6b2-3b20-4c7d-be1f-c4b0da0ea51f",
        "colab": {
          "base_uri": "https://localhost:8080/",
          "height": 90
        }
      },
      "source": [
        "#Print the data type of x_train\n",
        "print(type(x_train))\n",
        "#Print the data type of y_train\n",
        "print(type(y_train))\n",
        "#Print the data type of x_test\n",
        "print(type(x_test))\n",
        "#Print the data type of y_test\n",
        "print(type(y_test))"
      ],
      "execution_count": 0,
      "outputs": [
        {
          "output_type": "stream",
          "text": [
            "<class 'numpy.ndarray'>\n",
            "<class 'numpy.ndarray'>\n",
            "<class 'numpy.ndarray'>\n",
            "<class 'numpy.ndarray'>\n"
          ],
          "name": "stdout"
        }
      ]
    },
    {
      "cell_type": "code",
      "metadata": {
        "id": "ZTpaxwMjaZEz",
        "colab_type": "code",
        "outputId": "b88d1ff2-2444-4f07-9fd3-23f7a9978eef",
        "colab": {
          "base_uri": "https://localhost:8080/",
          "height": 90
        }
      },
      "source": [
        "#Get the shape of x_train\n",
        "print('x_train shape:', x_train.shape) #4D array 50,000 rows 32x32 pixel image with depth = 3 visible wave lenghts (RGB)\n",
        "#Get the shape of y_train\n",
        "print('y_train shape:', y_train.shape) #2D array 50,000 rows and 1 column\n",
        "#Get the shape of x_train\n",
        "print('x_test shape:', x_test.shape) #4D array 10,000 rows 32x32 pixel image with depth = 3 visible wave lenghts (RGB)\n",
        "#Get the shape of y_train\n",
        "print('y_test shape:', y_test.shape) #2D array 10,000 rows and 1 column"
      ],
      "execution_count": 0,
      "outputs": [
        {
          "output_type": "stream",
          "text": [
            "x_train shape: (50000, 32, 32, 3)\n",
            "y_train shape: (50000, 1)\n",
            "x_test shape: (10000, 32, 32, 3)\n",
            "y_test shape: (10000, 1)\n"
          ],
          "name": "stdout"
        }
      ]
    },
    {
      "cell_type": "code",
      "metadata": {
        "id": "bi0k_o0vadTr",
        "colab_type": "code",
        "outputId": "038dc157-f960-47fb-d023-8c234602547c",
        "colab": {
          "base_uri": "https://localhost:8080/",
          "height": 917
        }
      },
      "source": [
        "#Take a look at the first image (at index=0) in the training data set as a numpy array\n",
        "#This shows the image as a series of pixel values\n",
        "x_train[0]"
      ],
      "execution_count": 0,
      "outputs": [
        {
          "output_type": "execute_result",
          "data": {
            "text/plain": [
              "array([[[ 59,  62,  63],\n",
              "        [ 43,  46,  45],\n",
              "        [ 50,  48,  43],\n",
              "        ...,\n",
              "        [158, 132, 108],\n",
              "        [152, 125, 102],\n",
              "        [148, 124, 103]],\n",
              "\n",
              "       [[ 16,  20,  20],\n",
              "        [  0,   0,   0],\n",
              "        [ 18,   8,   0],\n",
              "        ...,\n",
              "        [123,  88,  55],\n",
              "        [119,  83,  50],\n",
              "        [122,  87,  57]],\n",
              "\n",
              "       [[ 25,  24,  21],\n",
              "        [ 16,   7,   0],\n",
              "        [ 49,  27,   8],\n",
              "        ...,\n",
              "        [118,  84,  50],\n",
              "        [120,  84,  50],\n",
              "        [109,  73,  42]],\n",
              "\n",
              "       ...,\n",
              "\n",
              "       [[208, 170,  96],\n",
              "        [201, 153,  34],\n",
              "        [198, 161,  26],\n",
              "        ...,\n",
              "        [160, 133,  70],\n",
              "        [ 56,  31,   7],\n",
              "        [ 53,  34,  20]],\n",
              "\n",
              "       [[180, 139,  96],\n",
              "        [173, 123,  42],\n",
              "        [186, 144,  30],\n",
              "        ...,\n",
              "        [184, 148,  94],\n",
              "        [ 97,  62,  34],\n",
              "        [ 83,  53,  34]],\n",
              "\n",
              "       [[177, 144, 116],\n",
              "        [168, 129,  94],\n",
              "        [179, 142,  87],\n",
              "        ...,\n",
              "        [216, 184, 140],\n",
              "        [151, 118,  84],\n",
              "        [123,  92,  72]]], dtype=uint8)"
            ]
          },
          "metadata": {
            "tags": []
          },
          "execution_count": 5
        }
      ]
    },
    {
      "cell_type": "code",
      "metadata": {
        "id": "xlD5iystagUw",
        "colab_type": "code",
        "outputId": "8dcdf11c-58bd-4666-af8f-a15f967e56f2",
        "colab": {
          "base_uri": "https://localhost:8080/",
          "height": 266
        }
      },
      "source": [
        "#Show the image as an image instead of a series of pixel values using matplotlib\n",
        "import matplotlib.pyplot as plt\n",
        "img = plt.imshow(x_train[1])"
      ],
      "execution_count": 0,
      "outputs": [
        {
          "output_type": "display_data",
          "data": {
            "image/png": "[encoded data removed]",
            "text/plain": [
              "<Figure size 432x288 with 1 Axes>"
            ]
          },
          "metadata": {
            "tags": []
          }
        }
      ]
    },
    {
      "cell_type": "code",
      "metadata": {
        "id": "maHUxEVDax1T",
        "colab_type": "code",
        "outputId": "b9c7c9f8-61ae-4ee5-bf8a-3c012ec61b88",
        "colab": {
          "base_uri": "https://localhost:8080/",
          "height": 35
        }
      },
      "source": [
        "#Print the label of the image, NOTE: the number 6 = frog\n",
        "#0 = airplane\n",
        "#1 = automobile\n",
        "#2 = bird\n",
        "#3 = cat\n",
        "#4 = deer\n",
        "#5 = dog\n",
        "#6 = frog\n",
        "#7 = horse\n",
        "#8 = ship\n",
        "#9 = truck\n",
        "print('The label is:', y_train[0])"
      ],
      "execution_count": 0,
      "outputs": [
        {
          "output_type": "stream",
          "text": [
            "The label is: [6]\n"
          ],
          "name": "stdout"
        }
      ]
    },
    {
      "cell_type": "code",
      "metadata": {
        "id": "F5X5KkVpa1Km",
        "colab_type": "code",
        "colab": {}
      },
      "source": [
        "\n",
        "\n",
        "#One-Hot Encoding \n",
        "#Convert the labels into a set of 10 numbers to input into the neural network\n",
        "from keras.utils import to_categorical\n",
        "y_train_one_hot = to_categorical(y_train)\n",
        "y_test_one_hot = to_categorical(y_test)\n",
        "\n"
      ],
      "execution_count": 0,
      "outputs": []
    },
    {
      "cell_type": "code",
      "metadata": {
        "id": "u-wCGDFia3hg",
        "colab_type": "code",
        "outputId": "47e5a7bd-881c-460d-9f22-b936b9c83604",
        "colab": {
          "base_uri": "https://localhost:8080/",
          "height": 146
        }
      },
      "source": [
        "#Print all of the new labels in the training data set\n",
        "print(y_train_one_hot)"
      ],
      "execution_count": 0,
      "outputs": [
        {
          "output_type": "stream",
          "text": [
            "[[0. 0. 0. ... 0. 0. 0.]\n",
            " [0. 0. 0. ... 0. 0. 1.]\n",
            " [0. 0. 0. ... 0. 0. 1.]\n",
            " ...\n",
            " [0. 0. 0. ... 0. 0. 1.]\n",
            " [0. 1. 0. ... 0. 0. 0.]\n",
            " [0. 1. 0. ... 0. 0. 0.]]\n"
          ],
          "name": "stdout"
        }
      ]
    },
    {
      "cell_type": "code",
      "metadata": {
        "id": "Ire9flJUa5gl",
        "colab_type": "code",
        "outputId": "7c7da5c6-965a-4555-cba4-b06d93a455bc",
        "colab": {
          "base_uri": "https://localhost:8080/",
          "height": 35
        }
      },
      "source": [
        "print('The one hot label is:', y_train_one_hot[0])"
      ],
      "execution_count": 0,
      "outputs": [
        {
          "output_type": "stream",
          "text": [
            "The one hot label is: [0. 0. 0. 0. 0. 0. 1. 0. 0. 0.]\n"
          ],
          "name": "stdout"
        }
      ]
    },
    {
      "cell_type": "code",
      "metadata": {
        "id": "9AvywoZka7ag",
        "colab_type": "code",
        "colab": {}
      },
      "source": [
        "#normalize the pixels in the images to be a value between 0 and 1 , they are normally values between 0 and 255\n",
        "#doing this will help the neural network.\n",
        "x_train = x_train / 255\n",
        "x_test = x_test / 255"
      ],
      "execution_count": 0,
      "outputs": []
    },
    {
      "cell_type": "code",
      "metadata": {
        "id": "gqmqHIR0a-9Q",
        "colab_type": "code",
        "outputId": "588a06e5-fd38-4601-91a3-5c4d6c2219e0",
        "colab": {
          "base_uri": "https://localhost:8080/",
          "height": 184
        }
      },
      "source": [
        "#Build The CNN\n",
        "from keras.models import Sequential\n",
        "from keras.layers import Dense, Flatten, Conv2D, MaxPooling2D\n",
        "\n",
        "model = Sequential() #Create the architecture\n",
        "\n",
        "#Convolution layer to extract features from the input image, and create 32 ReLu\n",
        "#5x5 convolved features/layers aka feature map.\n",
        "#Note:You must input the input shape only in this first layer.\n",
        "# number of output channels or convolution filters = 32\n",
        "# number of rows in the convolution kernel\n",
        "# number of cols in the convolution kernel\n",
        "# input shape 32x32 RGB image, so spacially it's 3-Dimensional\n",
        "# activation function Rectifier Linear Unit aka (ReLu)\n",
        "model.add(Conv2D(32, (5, 5), activation='relu', input_shape=(32,32,3))) \n",
        "\n",
        "\n",
        "#Pooling layer with a 2x2 filter to get the max element from the convolved features , \n",
        "#this reduces the dimensionality by half e.g. 16x16, aka sub sampling\n",
        "#Note: the default for stride is the pool_size\n",
        "model.add(MaxPooling2D(pool_size=(2, 2)))\n",
        "\n",
        "\n",
        "\n",
        "#2nd Convolution layer with 64 channels\n",
        "model.add(Conv2D(64, (5, 5), activation='relu'))\n",
        "\n",
        "#Adding second Max Pooling layer\n",
        "model.add(MaxPooling2D(pool_size=(2, 2)))\n",
        "\n",
        "#Flattening, Flattens the input. Does not affect the batch size. \n",
        "#(Flattening occurs when you reduce all layers to one background layer), \n",
        "#this makes the image a linear array or 1D Array or 1D Vector to \n",
        "#feed into or connect with the neural network\n",
        "model.add(Flatten())\n",
        "model.add(Dense(1000, activation='relu')) # a layer with 1000 neurons and activation function ReLu\n",
        "model.add(Dense(10, activation='softmax')) #a layer with 10 output neurons for each label using softmax activation function"
      ],
      "execution_count": 0,
      "outputs": [
        {
          "output_type": "stream",
          "text": [
            "WARNING:tensorflow:From /usr/local/lib/python3.6/dist-packages/keras/backend/tensorflow_backend.py:66: The name tf.get_default_graph is deprecated. Please use tf.compat.v1.get_default_graph instead.\n",
            "\n",
            "WARNING:tensorflow:From /usr/local/lib/python3.6/dist-packages/keras/backend/tensorflow_backend.py:541: The name tf.placeholder is deprecated. Please use tf.compat.v1.placeholder instead.\n",
            "\n",
            "WARNING:tensorflow:From /usr/local/lib/python3.6/dist-packages/keras/backend/tensorflow_backend.py:4432: The name tf.random_uniform is deprecated. Please use tf.random.uniform instead.\n",
            "\n",
            "WARNING:tensorflow:From /usr/local/lib/python3.6/dist-packages/keras/backend/tensorflow_backend.py:4267: The name tf.nn.max_pool is deprecated. Please use tf.nn.max_pool2d instead.\n",
            "\n"
          ],
          "name": "stdout"
        }
      ]
    },
    {
      "cell_type": "code",
      "metadata": {
        "id": "Bc6f8pJsb6K7",
        "colab_type": "code",
        "outputId": "ad5f9401-e088-4722-efc8-d29f4a6d351e",
        "colab": {
          "base_uri": "https://localhost:8080/",
          "height": 110
        }
      },
      "source": [
        "model.compile(loss='categorical_crossentropy', # loss function used for classes that are greater than 2)\n",
        "              optimizer='adam',\n",
        "              metrics=['accuracy'])"
      ],
      "execution_count": 0,
      "outputs": [
        {
          "output_type": "stream",
          "text": [
            "WARNING:tensorflow:From /usr/local/lib/python3.6/dist-packages/keras/optimizers.py:793: The name tf.train.Optimizer is deprecated. Please use tf.compat.v1.train.Optimizer instead.\n",
            "\n",
            "WARNING:tensorflow:From /usr/local/lib/python3.6/dist-packages/keras/backend/tensorflow_backend.py:3576: The name tf.log is deprecated. Please use tf.math.log instead.\n",
            "\n"
          ],
          "name": "stdout"
        }
      ]
    },
    {
      "cell_type": "code",
      "metadata": {
        "id": "_6kJKQoqb9rS",
        "colab_type": "code",
        "outputId": "12a5f8e7-1747-4cba-8753-b5fcb27c0ccb",
        "colab": {
          "base_uri": "https://localhost:8080/",
          "height": 772
        }
      },
      "source": [
        "#Batch: Total number of training examples present in a single batch\n",
        "#Epoch:The number of iterations when an ENTIRE dataset is passed forward and \n",
        "#      backward through the neural network only ONCE.\n",
        "#Fit: Another word for train\n",
        "\n",
        "#NOTE: We don't need to use validation_data, so we didn't have to split the data \n",
        "#into a validation sets. We just put in 0.2 and this splits the data 20% for us.\n",
        "hist = model.fit(x_train, y_train_one_hot, \n",
        "           batch_size=256, epochs=10, validation_split=0.3 )"
      ],
      "execution_count": 0,
      "outputs": [
        {
          "output_type": "stream",
          "text": [
            "WARNING:tensorflow:From /usr/local/lib/python3.6/dist-packages/tensorflow_core/python/ops/math_grad.py:1424: where (from tensorflow.python.ops.array_ops) is deprecated and will be removed in a future version.\n",
            "Instructions for updating:\n",
            "Use tf.where in 2.0, which has the same broadcast rule as np.where\n",
            "WARNING:tensorflow:From /usr/local/lib/python3.6/dist-packages/keras/backend/tensorflow_backend.py:1033: The name tf.assign_add is deprecated. Please use tf.compat.v1.assign_add instead.\n",
            "\n",
            "WARNING:tensorflow:From /usr/local/lib/python3.6/dist-packages/keras/backend/tensorflow_backend.py:1020: The name tf.assign is deprecated. Please use tf.compat.v1.assign instead.\n",
            "\n",
            "WARNING:tensorflow:From /usr/local/lib/python3.6/dist-packages/keras/backend/tensorflow_backend.py:3005: The name tf.Session is deprecated. Please use tf.compat.v1.Session instead.\n",
            "\n",
            "Train on 35000 samples, validate on 15000 samples\n",
            "Epoch 1/10\n",
            "WARNING:tensorflow:From /usr/local/lib/python3.6/dist-packages/keras/backend/tensorflow_backend.py:190: The name tf.get_default_session is deprecated. Please use tf.compat.v1.get_default_session instead.\n",
            "\n",
            "WARNING:tensorflow:From /usr/local/lib/python3.6/dist-packages/keras/backend/tensorflow_backend.py:197: The name tf.ConfigProto is deprecated. Please use tf.compat.v1.ConfigProto instead.\n",
            "\n",
            "WARNING:tensorflow:From /usr/local/lib/python3.6/dist-packages/keras/backend/tensorflow_backend.py:207: The name tf.global_variables is deprecated. Please use tf.compat.v1.global_variables instead.\n",
            "\n",
            "WARNING:tensorflow:From /usr/local/lib/python3.6/dist-packages/keras/backend/tensorflow_backend.py:216: The name tf.is_variable_initialized is deprecated. Please use tf.compat.v1.is_variable_initialized instead.\n",
            "\n",
            "WARNING:tensorflow:From /usr/local/lib/python3.6/dist-packages/keras/backend/tensorflow_backend.py:223: The name tf.variables_initializer is deprecated. Please use tf.compat.v1.variables_initializer instead.\n",
            "\n",
            "35000/35000 [==============================] - 73s 2ms/step - loss: 1.6965 - acc: 0.3873 - val_loss: 1.4174 - val_acc: 0.4856\n",
            "Epoch 2/10\n",
            "35000/35000 [==============================] - 72s 2ms/step - loss: 1.3265 - acc: 0.5254 - val_loss: 1.2620 - val_acc: 0.5547\n",
            "Epoch 3/10\n",
            "35000/35000 [==============================] - 72s 2ms/step - loss: 1.1736 - acc: 0.5857 - val_loss: 1.1806 - val_acc: 0.5802\n",
            "Epoch 4/10\n",
            "35000/35000 [==============================] - 72s 2ms/step - loss: 1.0624 - acc: 0.6273 - val_loss: 1.0885 - val_acc: 0.6223\n",
            "Epoch 5/10\n",
            "35000/35000 [==============================] - 72s 2ms/step - loss: 0.9681 - acc: 0.6619 - val_loss: 1.0181 - val_acc: 0.6447\n",
            "Epoch 6/10\n",
            "35000/35000 [==============================] - 72s 2ms/step - loss: 0.8927 - acc: 0.6899 - val_loss: 0.9965 - val_acc: 0.6510\n",
            "Epoch 7/10\n",
            "35000/35000 [==============================] - 71s 2ms/step - loss: 0.8248 - acc: 0.7124 - val_loss: 0.9722 - val_acc: 0.6655\n",
            "Epoch 8/10\n",
            "35000/35000 [==============================] - 71s 2ms/step - loss: 0.7542 - acc: 0.7374 - val_loss: 1.0566 - val_acc: 0.6391\n",
            "Epoch 9/10\n",
            "35000/35000 [==============================] - 72s 2ms/step - loss: 0.6705 - acc: 0.7689 - val_loss: 1.0122 - val_acc: 0.6585\n",
            "Epoch 10/10\n",
            "35000/35000 [==============================] - 72s 2ms/step - loss: 0.6084 - acc: 0.7887 - val_loss: 0.9664 - val_acc: 0.6798\n"
          ],
          "name": "stdout"
        }
      ]
    },
    {
      "cell_type": "code",
      "metadata": {
        "id": "goQ3phjigXs-",
        "colab_type": "code",
        "outputId": "bfb5f0e5-3b88-40d1-9087-de82e0eea132",
        "colab": {
          "base_uri": "https://localhost:8080/",
          "height": 54
        }
      },
      "source": [
        "#Get the models accuracy\n",
        "model.evaluate(x_test, y_test_one_hot)[1]\n",
        "#test_loss, test_acc = model.evaluate(test_images, test_labels)"
      ],
      "execution_count": 0,
      "outputs": [
        {
          "output_type": "stream",
          "text": [
            "10000/10000 [==============================] - 6s 598us/step\n"
          ],
          "name": "stdout"
        },
        {
          "output_type": "execute_result",
          "data": {
            "text/plain": [
              "0.676"
            ]
          },
          "metadata": {
            "tags": []
          },
          "execution_count": 19
        }
      ]
    },
    {
      "cell_type": "code",
      "metadata": {
        "id": "i__D3G6OgoIV",
        "colab_type": "code",
        "outputId": "f62e52eb-139c-4aef-c52b-13509a177d2c",
        "colab": {
          "base_uri": "https://localhost:8080/",
          "height": 295
        }
      },
      "source": [
        "#Visualize the models accuracy\n",
        "plt.plot(hist.history['acc'])\n",
        "plt.plot(hist.history['val_acc'])\n",
        "plt.title('Model accuracy')\n",
        "plt.ylabel('Accuracy')\n",
        "plt.xlabel('Epoch')\n",
        "plt.legend(['Train', 'Val'], loc='upper left')\n",
        "plt.show()"
      ],
      "execution_count": 0,
      "outputs": [
        {
          "output_type": "display_data",
          "data": {
            "image/png": "[encoded data removed]",
            "text/plain": [
              "<Figure size 432x288 with 1 Axes>"
            ]
          },
          "metadata": {
            "tags": []
          }
        }
      ]
    },
    {
      "cell_type": "code",
      "metadata": {
        "id": "5fM6RLvggsIk",
        "colab_type": "code",
        "outputId": "eaa3918b-b6d7-4d04-9541-ebb3b2701114",
        "colab": {
          "base_uri": "https://localhost:8080/",
          "height": 295
        }
      },
      "source": [
        "#Visualize the models loss\n",
        "plt.plot(hist.history['loss'])\n",
        "plt.plot(hist.history['val_loss'])\n",
        "plt.title('Model loss')\n",
        "plt.ylabel('Loss')\n",
        "plt.xlabel('Epoch')\n",
        "plt.legend(['Train', 'Val'], loc='upper right')\n",
        "plt.show()"
      ],
      "execution_count": 0,
      "outputs": [
        {
          "output_type": "display_data",
          "data": {
            "image/png": "[encoded data removed]",
            "text/plain": [
              "<Figure size 432x288 with 1 Axes>"
            ]
          },
          "metadata": {
            "tags": []
          }
        }
      ]
    },
    {
      "cell_type": "code",
      "metadata": {
        "id": "UmaJ-u_BAnxY",
        "colab_type": "code",
        "outputId": "90e148a6-2dd9-4c7a-ae59-744a3b8368d0",
        "colab": {
          "base_uri": "https://localhost:8080/",
          "height": 331
        }
      },
      "source": [
        "!pip3 install imageai --upgrade"
      ],
      "execution_count": 0,
      "outputs": [
        {
          "output_type": "stream",
          "text": [
            "Collecting imageai\n",
            "\u001b[?25l  Downloading https://files.pythonhosted.org/packages/09/99/4023e191a343fb23f01ae02ac57a5ca58037c310e8d8c62f87638a3bafc7/imageai-2.1.5-py3-none-any.whl (180kB)\n",
            "\r\u001b[K     |█▉                              | 10kB 21.0MB/s eta 0:00:01\r\u001b[K     |███▋                            | 20kB 2.8MB/s eta 0:00:01\r\u001b[K     |█████▍                          | 30kB 4.1MB/s eta 0:00:01\r\u001b[K     |███████▎                        | 40kB 2.8MB/s eta 0:00:01\r\u001b[K     |█████████                       | 51kB 3.5MB/s eta 0:00:01\r\u001b[K     |██████████▉                     | 61kB 4.1MB/s eta 0:00:01\r\u001b[K     |████████████▊                   | 71kB 4.7MB/s eta 0:00:01\r\u001b[K     |██████████████▌                 | 81kB 5.4MB/s eta 0:00:01\r\u001b[K     |████████████████▎               | 92kB 6.0MB/s eta 0:00:01\r\u001b[K     |██████████████████▏             | 102kB 4.6MB/s eta 0:00:01\r\u001b[K     |████████████████████            | 112kB 4.6MB/s eta 0:00:01\r\u001b[K     |█████████████████████▊          | 122kB 4.6MB/s eta 0:00:01\r\u001b[K     |███████████████████████▋        | 133kB 4.6MB/s eta 0:00:01\r\u001b[K     |█████████████████████████▍      | 143kB 4.6MB/s eta 0:00:01\r\u001b[K     |███████████████████████████▏    | 153kB 4.6MB/s eta 0:00:01\r\u001b[K     |█████████████████████████████   | 163kB 4.6MB/s eta 0:00:01\r\u001b[K     |██████████████████████████████▉ | 174kB 4.6MB/s eta 0:00:01\r\u001b[K     |████████████████████████████████| 184kB 4.6MB/s \n",
            "\u001b[?25hRequirement already satisfied, skipping upgrade: numpy in /usr/local/lib/python3.6/dist-packages (from imageai) (1.17.5)\n",
            "Requirement already satisfied, skipping upgrade: matplotlib in /usr/local/lib/python3.6/dist-packages (from imageai) (3.1.2)\n",
            "Requirement already satisfied, skipping upgrade: h5py in /usr/local/lib/python3.6/dist-packages (from imageai) (2.8.0)\n",
            "Requirement already satisfied, skipping upgrade: pillow in /usr/local/lib/python3.6/dist-packages (from imageai) (6.2.2)\n",
            "Requirement already satisfied, skipping upgrade: scipy in /usr/local/lib/python3.6/dist-packages (from imageai) (1.4.1)\n",
            "Requirement already satisfied, skipping upgrade: pyparsing!=2.0.4,!=2.1.2,!=2.1.6,>=2.0.1 in /usr/local/lib/python3.6/dist-packages (from matplotlib->imageai) (2.4.6)\n",
            "Requirement already satisfied, skipping upgrade: kiwisolver>=1.0.1 in /usr/local/lib/python3.6/dist-packages (from matplotlib->imageai) (1.1.0)\n",
            "Requirement already satisfied, skipping upgrade: cycler>=0.10 in /usr/local/lib/python3.6/dist-packages (from matplotlib->imageai) (0.10.0)\n",
            "Requirement already satisfied, skipping upgrade: python-dateutil>=2.1 in /usr/local/lib/python3.6/dist-packages (from matplotlib->imageai) (2.6.1)\n",
            "Requirement already satisfied, skipping upgrade: six in /usr/local/lib/python3.6/dist-packages (from h5py->imageai) (1.12.0)\n",
            "Requirement already satisfied, skipping upgrade: setuptools in /usr/local/lib/python3.6/dist-packages (from kiwisolver>=1.0.1->matplotlib->imageai) (42.0.2)\n",
            "Installing collected packages: imageai\n",
            "Successfully installed imageai-2.1.5\n"
          ],
          "name": "stdout"
        }
      ]
    },
    {
      "cell_type": "code",
      "metadata": {
        "id": "unVIVOvcvce3",
        "colab_type": "code",
        "outputId": "29a172ed-6017-43db-9540-ffcdbe0cc32e",
        "colab": {
          "base_uri": "https://localhost:8080/",
          "height": 72
        }
      },
      "source": [
        "#Show the probability for each class\n",
        "probabilities"
      ],
      "execution_count": 0,
      "outputs": [
        {
          "output_type": "execute_result",
          "data": {
            "text/plain": [
              "array([[0.04597778, 0.05855124, 0.08917397, 0.05168636, 0.00324275,\n",
              "        0.1539545 , 0.00420769, 0.05528726, 0.02546776, 0.5124507 ]],\n",
              "      dtype=float32)"
            ]
          },
          "metadata": {
            "tags": []
          },
          "execution_count": 51
        }
      ]
    },
    {
      "cell_type": "code",
      "metadata": {
        "id": "aR3q_TWtve6G",
        "colab_type": "code",
        "outputId": "4b238e97-bf98-4a16-e122-e955b6f4935e",
        "colab": {
          "base_uri": "https://localhost:8080/",
          "height": 109
        }
      },
      "source": [
        "number_to_class = ['airplane', 'car', 'bird', 'cat', 'deer', 'dog', 'frog', 'horse', 'ship', 'vehicle']\n",
        "index = np.argsort(probabilities[0,:])\n",
        "print(\"Most likely class:\", number_to_class[index[9]], \"-- Probability:\", probabilities[0,index[9]])\n",
        "print(\"Second most likely class:\", number_to_class[index[8]], \"-- Probability:\", probabilities[0,index[8]])\n",
        "print(\"Third most likely class:\", number_to_class[index[7]], \"-- Probability:\", probabilities[0,index[7]])\n",
        "print(\"Fourth most likely class:\", number_to_class[index[6]], \"-- Probability:\", probabilities[0,index[6]])\n",
        "print(\"Fifth most likely class:\", number_to_class[index[5]], \"-- Probability:\", probabilities[0,index[5]])"
      ],
      "execution_count": 0,
      "outputs": [
        {
          "output_type": "stream",
          "text": [
            "Most likely class: vehicle -- Probability: 0.5124507\n",
            "Second most likely class: dog -- Probability: 0.1539545\n",
            "Third most likely class: bird -- Probability: 0.089173965\n",
            "Fourth most likely class: car -- Probability: 0.05855124\n",
            "Fifth most likely class: horse -- Probability: 0.055287264\n"
          ],
          "name": "stdout"
        }
      ]
    },
    {
      "cell_type": "code",
      "metadata": {
        "id": "f1yMSDlc4Zlv",
        "colab_type": "code",
        "colab": {}
      },
      "source": [
        "#To save this model \n",
        "model.save('my_model.h5')"
      ],
      "execution_count": 0,
      "outputs": []
    },
    {
      "cell_type": "code",
      "metadata": {
        "id": "_2z-lYU34b4F",
        "colab_type": "code",
        "colab": {}
      },
      "source": [
        "#To load this model\n",
        "from keras.models import load_model\n",
        "model = load_model('my_model.h5')"
      ],
      "execution_count": 0,
      "outputs": []
    }
  ]
}