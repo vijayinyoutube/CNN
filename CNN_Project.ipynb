{
  "nbformat": 4,
  "nbformat_minor": 0,
  "metadata": {
    "colab": {
      "name": "CNN Project",
      "provenance": [],
      "collapsed_sections": [],
      "authorship_tag": "ABX9TyMzMis4GgD88rUwLyCBy82O",
      "include_colab_link": true
    },
    "kernelspec": {
      "name": "python3",
      "display_name": "Python 3"
    }
  },
  "cells": [
    {
      "cell_type": "markdown",
      "metadata": {
        "id": "view-in-github",
        "colab_type": "text"
      },
      "source": [
        "<a href=\"https://colab.research.google.com/github/vijayinyoutube/CNN/blob/master/CNN_Project.ipynb\" target=\"_parent\"><img src=\"https://colab.research.google.com/assets/colab-badge.svg\" alt=\"Open In Colab\"/></a>"
      ]
    },
    {
      "cell_type": "markdown",
      "metadata": {
        "id": "Gmxsyij50jrb",
        "colab_type": "text"
      },
      "source": [
        "**Intelligent Traffic Light Controller System** based on soft computing techniques"
      ]
    },
    {
      "cell_type": "code",
      "metadata": {
        "id": "tUEXLfYeaFsg",
        "colab_type": "code",
        "colab": {}
      },
      "source": [
        "#Description : Image processing using CNN for vehicle detection and signal optimization"
      ],
      "execution_count": 0,
      "outputs": []
    },
    {
      "cell_type": "code",
      "metadata": {
        "id": "M6j4wCG_aNk3",
        "colab_type": "code",
        "colab": {}
      },
      "source": [
        "#Load the data\n",
        "from keras.datasets import cifar10\n",
        "(x_train, y_train), (x_test, y_test) = cifar10.load_data()"
      ],
      "execution_count": 0,
      "outputs": []
    },
    {
      "cell_type": "code",
      "metadata": {
        "id": "DHdSAbKcaVYu",
        "colab_type": "code",
        "outputId": "b9325f54-e849-4cc7-e5ff-738659001020",
        "colab": {
          "base_uri": "https://localhost:8080/",
          "height": 90
        }
      },
      "source": [
        "#Print the data type of x_train\n",
        "print(type(x_train))\n",
        "#Print the data type of y_train\n",
        "print(type(y_train))\n",
        "#Print the data type of x_test\n",
        "print(type(x_test))\n",
        "#Print the data type of y_test\n",
        "print(type(y_test))"
      ],
      "execution_count": 0,
      "outputs": [
        {
          "output_type": "stream",
          "text": [
            "<class 'numpy.ndarray'>\n",
            "<class 'numpy.ndarray'>\n",
            "<class 'numpy.ndarray'>\n",
            "<class 'numpy.ndarray'>\n"
          ],
          "name": "stdout"
        }
      ]
    },
    {
      "cell_type": "code",
      "metadata": {
        "id": "ZTpaxwMjaZEz",
        "colab_type": "code",
        "outputId": "e76e6311-d1d0-4a6c-c616-68f49e677c77",
        "colab": {
          "base_uri": "https://localhost:8080/",
          "height": 90
        }
      },
      "source": [
        "#Get the shape of x_train\n",
        "print('x_train shape:', x_train.shape) #4D array 50,000 rows 32x32 pixel image with depth = 3 visible wave lenghts (RGB)\n",
        "#Get the shape of y_train\n",
        "print('y_train shape:', y_train.shape) #2D array 50,000 rows and 1 column\n",
        "#Get the shape of x_train\n",
        "print('x_test shape:', x_test.shape) #4D array 10,000 rows 32x32 pixel image with depth = 3 visible wave lenghts (RGB)\n",
        "#Get the shape of y_train\n",
        "print('y_test shape:', y_test.shape) #2D array 10,000 rows and 1 column"
      ],
      "execution_count": 0,
      "outputs": [
        {
          "output_type": "stream",
          "text": [
            "x_train shape: (50000, 32, 32, 3)\n",
            "y_train shape: (50000, 1)\n",
            "x_test shape: (10000, 32, 32, 3)\n",
            "y_test shape: (10000, 1)\n"
          ],
          "name": "stdout"
        }
      ]
    },
    {
      "cell_type": "code",
      "metadata": {
        "id": "bi0k_o0vadTr",
        "colab_type": "code",
        "outputId": "003c9e1a-8215-49db-8900-95e5ab467767",
        "colab": {
          "base_uri": "https://localhost:8080/",
          "height": 917
        }
      },
      "source": [
        "#Take a look at the first image (at index=0) in the training data set as a numpy array\n",
        "#This shows the image as a series of pixel values\n",
        "x_train[0]"
      ],
      "execution_count": 0,
      "outputs": [
        {
          "output_type": "execute_result",
          "data": {
            "text/plain": [
              "array([[[ 59,  62,  63],\n",
              "        [ 43,  46,  45],\n",
              "        [ 50,  48,  43],\n",
              "        ...,\n",
              "        [158, 132, 108],\n",
              "        [152, 125, 102],\n",
              "        [148, 124, 103]],\n",
              "\n",
              "       [[ 16,  20,  20],\n",
              "        [  0,   0,   0],\n",
              "        [ 18,   8,   0],\n",
              "        ...,\n",
              "        [123,  88,  55],\n",
              "        [119,  83,  50],\n",
              "        [122,  87,  57]],\n",
              "\n",
              "       [[ 25,  24,  21],\n",
              "        [ 16,   7,   0],\n",
              "        [ 49,  27,   8],\n",
              "        ...,\n",
              "        [118,  84,  50],\n",
              "        [120,  84,  50],\n",
              "        [109,  73,  42]],\n",
              "\n",
              "       ...,\n",
              "\n",
              "       [[208, 170,  96],\n",
              "        [201, 153,  34],\n",
              "        [198, 161,  26],\n",
              "        ...,\n",
              "        [160, 133,  70],\n",
              "        [ 56,  31,   7],\n",
              "        [ 53,  34,  20]],\n",
              "\n",
              "       [[180, 139,  96],\n",
              "        [173, 123,  42],\n",
              "        [186, 144,  30],\n",
              "        ...,\n",
              "        [184, 148,  94],\n",
              "        [ 97,  62,  34],\n",
              "        [ 83,  53,  34]],\n",
              "\n",
              "       [[177, 144, 116],\n",
              "        [168, 129,  94],\n",
              "        [179, 142,  87],\n",
              "        ...,\n",
              "        [216, 184, 140],\n",
              "        [151, 118,  84],\n",
              "        [123,  92,  72]]], dtype=uint8)"
            ]
          },
          "metadata": {
            "tags": []
          },
          "execution_count": 72
        }
      ]
    },
    {
      "cell_type": "code",
      "metadata": {
        "id": "xlD5iystagUw",
        "colab_type": "code",
        "outputId": "10c0bf91-60ec-403f-b040-05917fe08489",
        "colab": {
          "base_uri": "https://localhost:8080/",
          "height": 266
        }
      },
      "source": [
        "#Show the image as an image instead of a series of pixel values using matplotlib\n",
        "import matplotlib.pyplot as plt\n",
        "img = plt.imshow(x_train[1])"
      ],
      "execution_count": 0,
      "outputs": [
        {
          "output_type": "display_data",
          "data": {
            "image/png": "iVBORw0KGgoAAAANSUhEUgAAAPsAAAD5CAYAAADhukOtAAAABHNCSVQICAgIfAhkiAAAAAlwSFlz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\nWmKmUgAAAABJRU5ErkJggg==\n",
            "text/plain": [
              "<Figure size 432x288 with 1 Axes>"
            ]
          },
          "metadata": {
            "tags": []
          }
        }
      ]
    },
    {
      "cell_type": "code",
      "metadata": {
        "id": "maHUxEVDax1T",
        "colab_type": "code",
        "outputId": "681b9de4-b883-477b-b5f0-ed9c052ac692",
        "colab": {
          "base_uri": "https://localhost:8080/",
          "height": 35
        }
      },
      "source": [
        "#Print the label of the image, NOTE: \n",
        "#0 = airplane\n",
        "#1 = automobile\n",
        "#2 = bird\n",
        "#3 = cat\n",
        "#4 = deer\n",
        "#5 = dog\n",
        "#6 = frog\n",
        "#7 = horse\n",
        "#8 = ship\n",
        "#9 = truck\n",
        "print('The label is:', y_train[1])"
      ],
      "execution_count": 0,
      "outputs": [
        {
          "output_type": "stream",
          "text": [
            "The label is: [9]\n"
          ],
          "name": "stdout"
        }
      ]
    },
    {
      "cell_type": "code",
      "metadata": {
        "id": "F5X5KkVpa1Km",
        "colab_type": "code",
        "colab": {}
      },
      "source": [
        "\n",
        "\n",
        "#One-Hot Encoding \n",
        "#Convert the labels into a set of 10 numbers to input into the neural network\n",
        "from keras.utils import to_categorical\n",
        "y_train_one_hot = to_categorical(y_train)\n",
        "y_test_one_hot = to_categorical(y_test)\n",
        "\n"
      ],
      "execution_count": 0,
      "outputs": []
    },
    {
      "cell_type": "code",
      "metadata": {
        "id": "u-wCGDFia3hg",
        "colab_type": "code",
        "outputId": "77c3aa83-c5d9-4235-9848-ad5204d05ec7",
        "colab": {
          "base_uri": "https://localhost:8080/",
          "height": 146
        }
      },
      "source": [
        "#Print all of the new labels in the training data set\n",
        "print(y_train_one_hot)"
      ],
      "execution_count": 0,
      "outputs": [
        {
          "output_type": "stream",
          "text": [
            "[[0. 0. 0. ... 0. 0. 0.]\n",
            " [0. 0. 0. ... 0. 0. 1.]\n",
            " [0. 0. 0. ... 0. 0. 1.]\n",
            " ...\n",
            " [0. 0. 0. ... 0. 0. 1.]\n",
            " [0. 1. 0. ... 0. 0. 0.]\n",
            " [0. 1. 0. ... 0. 0. 0.]]\n"
          ],
          "name": "stdout"
        }
      ]
    },
    {
      "cell_type": "code",
      "metadata": {
        "id": "Ire9flJUa5gl",
        "colab_type": "code",
        "outputId": "46ae5d0f-5fa0-47a8-8b5c-b0c69ea42a31",
        "colab": {
          "base_uri": "https://localhost:8080/",
          "height": 35
        }
      },
      "source": [
        "print('The one hot label is:', y_train_one_hot[1])"
      ],
      "execution_count": 0,
      "outputs": [
        {
          "output_type": "stream",
          "text": [
            "The one hot label is: [0. 0. 0. 0. 0. 0. 0. 0. 0. 1.]\n"
          ],
          "name": "stdout"
        }
      ]
    },
    {
      "cell_type": "code",
      "metadata": {
        "id": "9AvywoZka7ag",
        "colab_type": "code",
        "colab": {}
      },
      "source": [
        "#normalize the pixels in the images to be a value between 0 and 1 , they are normally values between 0 and 255\n",
        "#doing this will help the neural network.\n",
        "x_train = x_train / 255\n",
        "x_test = x_test / 255"
      ],
      "execution_count": 0,
      "outputs": []
    },
    {
      "cell_type": "code",
      "metadata": {
        "id": "gqmqHIR0a-9Q",
        "colab_type": "code",
        "colab": {}
      },
      "source": [
        "#Build The CNN\n",
        "from keras.models import Sequential\n",
        "from keras.layers import Dense, Flatten, Conv2D, MaxPooling2D\n",
        "\n",
        "model = Sequential() #Create the architecture\n",
        "\n",
        "#Convolution layer to extract features from the input image, and create 32 ReLu\n",
        "#5x5 convolved features/layers aka feature map.\n",
        "#Note:You must input the input shape only in this first layer.\n",
        "# number of output channels or convolution filters = 32\n",
        "# number of rows in the convolution kernel\n",
        "# number of cols in the convolution kernel\n",
        "# input shape 32x32 RGB image, so spacially it's 3-Dimensional\n",
        "# activation function Rectifier Linear Unit aka (ReLu)\n",
        "model.add(Conv2D(32, (5, 5), activation='relu', input_shape=(32,32,3))) \n",
        "\n",
        "\n",
        "#Pooling layer with a 2x2 filter to get the max element from the convolved features , \n",
        "#this reduces the dimensionality by half e.g. 16x16, aka sub sampling\n",
        "#Note: the default for stride is the pool_size\n",
        "model.add(MaxPooling2D(pool_size=(2, 2)))\n",
        "\n",
        "\n",
        "\n",
        "#2nd Convolution layer with 64 channels\n",
        "model.add(Conv2D(64, (5, 5), activation='relu'))\n",
        "\n",
        "#Adding second Max Pooling layer\n",
        "model.add(MaxPooling2D(pool_size=(2, 2)))\n",
        "\n",
        "#Flattening, Flattens the input. Does not affect the batch size. \n",
        "#(Flattening occurs when you reduce all layers to one background layer), \n",
        "#this makes the image a linear array or 1D Array or 1D Vector to \n",
        "#feed into or connect with the neural network\n",
        "model.add(Flatten())\n",
        "model.add(Dense(1000, activation='relu')) # a layer with 1000 neurons and activation function ReLu\n",
        "model.add(Dense(10, activation='softmax')) #a layer with 10 output neurons for each label using softmax activation function"
      ],
      "execution_count": 0,
      "outputs": []
    },
    {
      "cell_type": "code",
      "metadata": {
        "id": "Bc6f8pJsb6K7",
        "colab_type": "code",
        "outputId": "e064ac60-b181-4885-9434-1cb531bc8b70",
        "colab": {
          "base_uri": "https://localhost:8080/",
          "height": 110
        }
      },
      "source": [
        "model.compile(loss='categorical_crossentropy', # loss function used for classes that are greater than 2)\n",
        "              optimizer='adam',\n",
        "              metrics=['accuracy'])"
      ],
      "execution_count": 0,
      "outputs": [
        {
          "output_type": "stream",
          "text": [
            "WARNING:tensorflow:From /usr/local/lib/python3.6/dist-packages/keras/optimizers.py:793: The name tf.train.Optimizer is deprecated. Please use tf.compat.v1.train.Optimizer instead.\n",
            "\n",
            "WARNING:tensorflow:From /usr/local/lib/python3.6/dist-packages/keras/backend/tensorflow_backend.py:3576: The name tf.log is deprecated. Please use tf.math.log instead.\n",
            "\n"
          ],
          "name": "stdout"
        }
      ]
    },
    {
      "cell_type": "code",
      "metadata": {
        "id": "_6kJKQoqb9rS",
        "colab_type": "code",
        "outputId": "f14900f1-3f48-462f-dbe4-afc4ec35bf1f",
        "colab": {
          "base_uri": "https://localhost:8080/",
          "height": 772
        }
      },
      "source": [
        "#Batch: Total number of training examples present in a single batch\n",
        "#Epoch:The number of iterations when an ENTIRE dataset is passed forward and \n",
        "#      backward through the neural network only ONCE.\n",
        "#Fit: Another word for train\n",
        "\n",
        "#NOTE: We don't need to use validation_data, so we didn't have to split the data \n",
        "#into a validation sets. We just put in 0.2 and this splits the data 20% for us.\n",
        "hist = model.fit(x_train, y_train_one_hot, \n",
        "           batch_size=256, epochs=10, validation_split=0.3 )"
      ],
      "execution_count": 0,
      "outputs": [
        {
          "output_type": "stream",
          "text": [
            "WARNING:tensorflow:From /usr/local/lib/python3.6/dist-packages/tensorflow_core/python/ops/math_grad.py:1424: where (from tensorflow.python.ops.array_ops) is deprecated and will be removed in a future version.\n",
            "Instructions for updating:\n",
            "Use tf.where in 2.0, which has the same broadcast rule as np.where\n",
            "WARNING:tensorflow:From /usr/local/lib/python3.6/dist-packages/keras/backend/tensorflow_backend.py:1033: The name tf.assign_add is deprecated. Please use tf.compat.v1.assign_add instead.\n",
            "\n",
            "WARNING:tensorflow:From /usr/local/lib/python3.6/dist-packages/keras/backend/tensorflow_backend.py:1020: The name tf.assign is deprecated. Please use tf.compat.v1.assign instead.\n",
            "\n",
            "WARNING:tensorflow:From /usr/local/lib/python3.6/dist-packages/keras/backend/tensorflow_backend.py:3005: The name tf.Session is deprecated. Please use tf.compat.v1.Session instead.\n",
            "\n",
            "Train on 35000 samples, validate on 15000 samples\n",
            "Epoch 1/10\n",
            "WARNING:tensorflow:From /usr/local/lib/python3.6/dist-packages/keras/backend/tensorflow_backend.py:190: The name tf.get_default_session is deprecated. Please use tf.compat.v1.get_default_session instead.\n",
            "\n",
            "WARNING:tensorflow:From /usr/local/lib/python3.6/dist-packages/keras/backend/tensorflow_backend.py:197: The name tf.ConfigProto is deprecated. Please use tf.compat.v1.ConfigProto instead.\n",
            "\n",
            "WARNING:tensorflow:From /usr/local/lib/python3.6/dist-packages/keras/backend/tensorflow_backend.py:207: The name tf.global_variables is deprecated. Please use tf.compat.v1.global_variables instead.\n",
            "\n",
            "WARNING:tensorflow:From /usr/local/lib/python3.6/dist-packages/keras/backend/tensorflow_backend.py:216: The name tf.is_variable_initialized is deprecated. Please use tf.compat.v1.is_variable_initialized instead.\n",
            "\n",
            "WARNING:tensorflow:From /usr/local/lib/python3.6/dist-packages/keras/backend/tensorflow_backend.py:223: The name tf.variables_initializer is deprecated. Please use tf.compat.v1.variables_initializer instead.\n",
            "\n",
            "35000/35000 [==============================] - 73s 2ms/step - loss: 1.6734 - acc: 0.3962 - val_loss: 1.4567 - val_acc: 0.4705\n",
            "Epoch 2/10\n",
            "35000/35000 [==============================] - 72s 2ms/step - loss: 1.3276 - acc: 0.5269 - val_loss: 1.2619 - val_acc: 0.5556\n",
            "Epoch 3/10\n",
            "35000/35000 [==============================] - 72s 2ms/step - loss: 1.1720 - acc: 0.5828 - val_loss: 1.1497 - val_acc: 0.5947\n",
            "Epoch 4/10\n",
            "35000/35000 [==============================] - 72s 2ms/step - loss: 1.0743 - acc: 0.6203 - val_loss: 1.2014 - val_acc: 0.5845\n",
            "Epoch 5/10\n",
            "35000/35000 [==============================] - 72s 2ms/step - loss: 0.9792 - acc: 0.6543 - val_loss: 1.0699 - val_acc: 0.6297\n",
            "Epoch 6/10\n",
            "35000/35000 [==============================] - 72s 2ms/step - loss: 0.9009 - acc: 0.6859 - val_loss: 1.0223 - val_acc: 0.6432\n",
            "Epoch 7/10\n",
            "35000/35000 [==============================] - 72s 2ms/step - loss: 0.8117 - acc: 0.7160 - val_loss: 1.0075 - val_acc: 0.6597\n",
            "Epoch 8/10\n",
            "35000/35000 [==============================] - 72s 2ms/step - loss: 0.7375 - acc: 0.7434 - val_loss: 0.9687 - val_acc: 0.6719\n",
            "Epoch 9/10\n",
            "35000/35000 [==============================] - 71s 2ms/step - loss: 0.6657 - acc: 0.7682 - val_loss: 0.9980 - val_acc: 0.6663\n",
            "Epoch 10/10\n",
            "35000/35000 [==============================] - 72s 2ms/step - loss: 0.5811 - acc: 0.8013 - val_loss: 1.0298 - val_acc: 0.6663\n"
          ],
          "name": "stdout"
        }
      ]
    },
    {
      "cell_type": "code",
      "metadata": {
        "id": "goQ3phjigXs-",
        "colab_type": "code",
        "outputId": "208af0bf-c260-4c07-8371-dcee8fdb5877",
        "colab": {
          "base_uri": "https://localhost:8080/",
          "height": 54
        }
      },
      "source": [
        "#Get the models accuracy\n",
        "model.evaluate(x_test, y_test_one_hot)[1]\n",
        "#test_loss, test_acc = model.evaluate(test_images, test_labels)"
      ],
      "execution_count": 0,
      "outputs": [
        {
          "output_type": "stream",
          "text": [
            "10000/10000 [==============================] - 6s 595us/step\n"
          ],
          "name": "stdout"
        },
        {
          "output_type": "execute_result",
          "data": {
            "text/plain": [
              "0.6655"
            ]
          },
          "metadata": {
            "tags": []
          },
          "execution_count": 15
        }
      ]
    },
    {
      "cell_type": "code",
      "metadata": {
        "id": "i__D3G6OgoIV",
        "colab_type": "code",
        "outputId": "69895e3b-91a2-4dad-e245-cf39f9c31bd8",
        "colab": {
          "base_uri": "https://localhost:8080/",
          "height": 246
        }
      },
      "source": [
        "#Visualize the models accuracy\n",
        "plt.plot(hist.history['acc'])\n",
        "plt.plot(hist.history['val_acc'])\n",
        "plt.title('Model accuracy')\n",
        "plt.ylabel('Accuracy')\n",
        "plt.xlabel('Epoch')\n",
        "plt.legend(['Train', 'Val'], loc='upper left')\n",
        "plt.show()"
      ],
      "execution_count": 0,
      "outputs": [
        {
          "output_type": "error",
          "ename": "NameError",
          "evalue": "ignored",
          "traceback": [
            "\u001b[0;31m---------------------------------------------------------------------------\u001b[0m",
            "\u001b[0;31mNameError\u001b[0m                                 Traceback (most recent call last)",
            "\u001b[0;32m<ipython-input-82-0538c3dfc206>\u001b[0m in \u001b[0;36m<module>\u001b[0;34m()\u001b[0m\n\u001b[0;32m----> 1\u001b[0;31m \u001b[0mplt\u001b[0m\u001b[0;34m.\u001b[0m\u001b[0mplot\u001b[0m\u001b[0;34m(\u001b[0m\u001b[0mhist\u001b[0m\u001b[0;34m.\u001b[0m\u001b[0mhistory\u001b[0m\u001b[0;34m[\u001b[0m\u001b[0;34m'acc'\u001b[0m\u001b[0;34m]\u001b[0m\u001b[0;34m)\u001b[0m\u001b[0;34m\u001b[0m\u001b[0;34m\u001b[0m\u001b[0m\n\u001b[0m\u001b[1;32m      2\u001b[0m \u001b[0mplt\u001b[0m\u001b[0;34m.\u001b[0m\u001b[0mplot\u001b[0m\u001b[0;34m(\u001b[0m\u001b[0mhist\u001b[0m\u001b[0;34m.\u001b[0m\u001b[0mhistory\u001b[0m\u001b[0;34m[\u001b[0m\u001b[0;34m'val_acc'\u001b[0m\u001b[0;34m]\u001b[0m\u001b[0;34m)\u001b[0m\u001b[0;34m\u001b[0m\u001b[0;34m\u001b[0m\u001b[0m\n\u001b[1;32m      3\u001b[0m \u001b[0mplt\u001b[0m\u001b[0;34m.\u001b[0m\u001b[0mtitle\u001b[0m\u001b[0;34m(\u001b[0m\u001b[0;34m'Model accuracy'\u001b[0m\u001b[0;34m)\u001b[0m\u001b[0;34m\u001b[0m\u001b[0;34m\u001b[0m\u001b[0m\n\u001b[1;32m      4\u001b[0m \u001b[0mplt\u001b[0m\u001b[0;34m.\u001b[0m\u001b[0mylabel\u001b[0m\u001b[0;34m(\u001b[0m\u001b[0;34m'Accuracy'\u001b[0m\u001b[0;34m)\u001b[0m\u001b[0;34m\u001b[0m\u001b[0;34m\u001b[0m\u001b[0m\n\u001b[1;32m      5\u001b[0m \u001b[0mplt\u001b[0m\u001b[0;34m.\u001b[0m\u001b[0mxlabel\u001b[0m\u001b[0;34m(\u001b[0m\u001b[0;34m'Epoch'\u001b[0m\u001b[0;34m)\u001b[0m\u001b[0;34m\u001b[0m\u001b[0;34m\u001b[0m\u001b[0m\n",
            "\u001b[0;31mNameError\u001b[0m: name 'hist' is not defined"
          ]
        }
      ]
    },
    {
      "cell_type": "code",
      "metadata": {
        "id": "5fM6RLvggsIk",
        "colab_type": "code",
        "outputId": "d22d5f8e-71f8-4203-907e-81164df56d40",
        "colab": {
          "base_uri": "https://localhost:8080/",
          "height": 295
        }
      },
      "source": [
        "#Visualize the models loss\n",
        "plt.plot(hist.history['loss'])\n",
        "plt.plot(hist.history['val_loss'])\n",
        "plt.title('Model loss')\n",
        "plt.ylabel('Loss')\n",
        "plt.xlabel('Epoch')\n",
        "plt.legend(['Train', 'Val'], loc='upper right')\n",
        "plt.show()"
      ],
      "execution_count": 0,
      "outputs": [
        {
          "output_type": "display_data",
          "data": {
            "image/png": "iVBORw0KGgoAAAANSUhEUgAAAYIAAAEWCAYAAABrDZDcAAAABHNCSVQICAgIfAhkiAAAAAlwSFlz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\n",
            "text/plain": [
              "<Figure size 432x288 with 1 Axes>"
            ]
          },
          "metadata": {
            "tags": []
          }
        }
      ]
    },
    {
      "cell_type": "code",
      "metadata": {
        "id": "UmaJ-u_BAnxY",
        "colab_type": "code",
        "outputId": "2ea2b120-a3f8-4665-8f30-0934be104a46",
        "colab": {
          "base_uri": "https://localhost:8080/",
          "height": 331
        }
      },
      "source": [
        "!pip3 install imageai --upgrade"
      ],
      "execution_count": 0,
      "outputs": [
        {
          "output_type": "stream",
          "text": [
            "Collecting imageai\n",
            "\u001b[?25l  Downloading https://files.pythonhosted.org/packages/09/99/4023e191a343fb23f01ae02ac57a5ca58037c310e8d8c62f87638a3bafc7/imageai-2.1.5-py3-none-any.whl (180kB)\n",
            "\u001b[K     |████████████████████████████████| 184kB 2.8MB/s \n",
            "\u001b[?25hRequirement already satisfied, skipping upgrade: scipy in /usr/local/lib/python3.6/dist-packages (from imageai) (1.4.1)\n",
            "Requirement already satisfied, skipping upgrade: pillow in /usr/local/lib/python3.6/dist-packages (from imageai) (6.2.2)\n",
            "Requirement already satisfied, skipping upgrade: h5py in /usr/local/lib/python3.6/dist-packages (from imageai) (2.8.0)\n",
            "Requirement already satisfied, skipping upgrade: matplotlib in /usr/local/lib/python3.6/dist-packages (from imageai) (3.1.2)\n",
            "Requirement already satisfied, skipping upgrade: numpy in /usr/local/lib/python3.6/dist-packages (from imageai) (1.17.5)\n",
            "Requirement already satisfied, skipping upgrade: six in /usr/local/lib/python3.6/dist-packages (from h5py->imageai) (1.12.0)\n",
            "Requirement already satisfied, skipping upgrade: python-dateutil>=2.1 in /usr/local/lib/python3.6/dist-packages (from matplotlib->imageai) (2.6.1)\n",
            "Requirement already satisfied, skipping upgrade: cycler>=0.10 in /usr/local/lib/python3.6/dist-packages (from matplotlib->imageai) (0.10.0)\n",
            "Requirement already satisfied, skipping upgrade: pyparsing!=2.0.4,!=2.1.2,!=2.1.6,>=2.0.1 in /usr/local/lib/python3.6/dist-packages (from matplotlib->imageai) (2.4.6)\n",
            "Requirement already satisfied, skipping upgrade: kiwisolver>=1.0.1 in /usr/local/lib/python3.6/dist-packages (from matplotlib->imageai) (1.1.0)\n",
            "Requirement already satisfied, skipping upgrade: setuptools in /usr/local/lib/python3.6/dist-packages (from kiwisolver>=1.0.1->matplotlib->imageai) (45.1.0)\n",
            "Installing collected packages: imageai\n",
            "Successfully installed imageai-2.1.5\n"
          ],
          "name": "stdout"
        }
      ]
    },
    {
      "cell_type": "code",
      "metadata": {
        "id": "CKCisy7jvMvq",
        "colab_type": "code",
        "colab": {}
      },
      "source": [
        "#Load the data\n",
        "#from google.colab import files # Use to load data on Google Colab\n",
        "#uploaded = files.upload() # Use to load data on Google Colab\n",
        "my_image = plt.imread(\"carimage.jpg\") #Read in the image (3, 14, 20)"
      ],
      "execution_count": 0,
      "outputs": []
    },
    {
      "cell_type": "code",
      "metadata": {
        "id": "fvKlKpkVvJdo",
        "colab_type": "code",
        "outputId": "fb4156f3-c8cf-47d8-9bb1-49b962c2f0dd",
        "colab": {
          "base_uri": "https://localhost:8080/",
          "height": 265
        }
      },
      "source": [
        "\n",
        "\n",
        "#Show the uploaded image\n",
        "img = plt.imshow(my_image)\n",
        "\n"
      ],
      "execution_count": 0,
      "outputs": [
        {
          "output_type": "display_data",
          "data": {
            "image/png": "iVBORw0KGgoAAAANSUhEUgAAAXcAAAD4CAYAAAAXUaZHAAAABHNCSVQICAgIfAhkiAAAAAlwSFlz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\niIx7hAgRIuyF+P+M4YvKViPzeAAAAABJRU5ErkJggg==\n",
            "text/plain": [
              "<Figure size 432x288 with 1 Axes>"
            ]
          },
          "metadata": {
            "tags": []
          }
        }
      ]
    },
    {
      "cell_type": "code",
      "metadata": {
        "id": "TN-meT3YvTyY",
        "colab_type": "code",
        "outputId": "2e41c75f-e343-400b-c6b8-6a0d5b213961",
        "colab": {
       & Show the image\n",
        "from skimage.transform import resize\n",
        "my_image_resized = resize(my_image, (32,32,3)) #resize the image to 32x32 pixel with depth = 3\n",
        "img = plt.imshow(my_image_resized) #show new image"
      ],
      "execution_count": 0,
      "outputs": [
        {
          "output_type": "display_data",
          "data": {
            "image/png": "iVBORw0KGgoAAAANSUhEUgAAAPsAAAD5CAYAAADhukOtAAAABHNCSVQICAgIfAhkiAAAAAlwSFlz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\nIwAAAABJRU5ErkJggg==\n",
            "text/plain": [
              "<Figure size 432x288 with 1 Axes>"
            ]
          },
          "metadata": {
            "tags": []
          }
        }
      ]
    },
    {
      "cell_type": "code",
      "metadata": {
        "id": "IAwiyYHyvaVv",
        "colab_type": "code",
        "colab": {}
      },
      "source": [
        "#Get the probabilities for each class\n",
        "#model.predict function is expecting an array, so we will use np.array to make this transformation on the image\n",
        "import numpy as np\n",
        "probabilities = model.predict(np.array( [my_image_resized,] ))"
      ],
      "execution_count": 0,
      "outputs": []
    },
    {
      "cell_type": "code",
      "metadata": {
        "id": "unVIVOvcvce3",
        "colab_type": "code",
        "outputId": "e5cc32fe-6db0-4840-8c2b-81c0f4b745c5",
        "colab": {
          "base_uri": "https://localhost:8080/",
          "height": 72
        }
      },
      "source": [
        "#Show the probability for each class\n",
        "probabilities"
      ],
      "execution_count": 0,
      "outputs": [
        {
          "output_type": "execute_result",
          "data": {
            "text/plain": [
              "array([[2.0706649e-04, 9.9696225e-01, 3.9734300e-06, 5.9936729e-06,\n",
              "        1.8923265e-09, 1.3880616e-06, 1.4286578e-05, 8.1906648e-05,\n",
              "        1.2095406e-04, 2.6021095e-03]], dtype=float32)"
            ]
          },
          "metadata": {
            "tags": []
          },
          "execution_count": 23
        }
      ]
    },
    {
      "cell_type": "code",
      "metadata": {
        "id": "aR3q_TWtve6G",
        "colab_type": "code",
        "outputId": "16da8879-4adb-49e1-a590-01f47b524a96",
        "colab": {
          "base_uri": "https://localhost:8080/",
          "height": 109
        }
      },
      "source": [
        "number_to_class = ['airplane', 'car', 'bird', 'cat', 'deer', 'dog', 'frog', 'horse', 'ship', 'vehicle']\n",
        "index = np.argsort(probabilities[0,:])\n",
        "print(\"Most likely class:\", number_to_class[index[9]], \"-- Probability:\", probabilities[0,index[9]])\n",
        "print(\"Second most likely class:\", number_to_class[index[8]], \"-- Probability:\", probabilities[0,index[8]])\n",
        "print(\"Third most likely class:\", number_to_class[index[7]], \"-- Probability:\", probabilities[0,index[7]])\n",
        "print(\"Fourth most likely class:\", number_to_class[index[6]], \"-- Probability:\", probabilities[0,index[6]])\n",
        "print(\"Fifth most likely class:\", number_to_class[index[5]], \"-- Probability:\", probabilities[0,index[5]])"
      ],
      "execution_count": 0,
      "outputs": [
        {
          "output_type": "stream",
          "text": [
            "Most likely class: car -- Probability: 0.99696225\n",
            "Second most likely class: vehicle -- Probability: 0.0026021095\n",
            "Third most likely class: airplane -- Probability: 0.00020706649\n",
            "Fourth most likely class: ship -- Probability: 0.00012095406\n",
            "Fifth most likely class: horse -- Probability: 8.190665e-05\n"
          ],
          "name": "stdout"
        }
      ]
    },
    {
      "cell_type": "code",
      "metadata": {
        "id": "f1yMSDlc4Zlv",
        "colab_type": "code",
        "colab": {}
      },
      "source": [
        "#To save this model \n",
        "model.save('my_model.h5')"
      ],
      "execution_count": 0,
      "outputs": []
    },
    {
      "cell_type": "code",
      "metadata": {
        "id": "_2z-lYU34b4F",
        "colab_type": "code",
        "colab": {}
      },
      "source": [
        "#To load this model\n",
        "from keras.models import load_model\n",
        "model = load_model('my_model.h5')"
      ],
      "execution_count": 0,
      "outputs": []
    },
    {
      "cell_type": "markdown",
      "metadata": {
        "id": "GUnzHeiF4j5t",
        "colab_type": "text"
      },
      "source": [
        "**Yolo Algorithm for vehicle detection**"
      ]
    },
    {
      "cell_type": "code",
      "
      
      
    
     
              "}\n",
              "\n",
              ".innerDiv \n",
              "{\n",
              "\twidth:400px; \n",
              "\theight:160px;\n",
              "}\n",
              "\n",
              ".innerDiv1 \n",
              "{\n",
              "\twidth:400px; \n",
              "\theight:160px;\n",
              "}\n",
              "\n",
              "#l1\n",
              "{\n",
              "\tposition:absolute;\n",
              "\ttop:70px;\n",
              "  left:250px;\n",
              "\ttext-align:center;\n",
              "\tcolor:black;\n",
              "}\n",
              "\n",
              "#l2\n",
              "{\n",
              "\tposition:absolute;\n",
              "\ttop:320px;\n",
              "\tleft:250px;\n",
              "\tcolor:black;\n",
              "\tfont-weight:bold;\n",
              "}\n",
              "\n",
              "#l3\n",
              "{\n",
              "\tposition:absolute;\n",
              "\ttop:70px;\n",
              "  left:910px;\n",
              "\ttext-align:center;\n",
              "\tcolor:black;\n",
              "}\n",
              "\n",
              "#l4\n",
              "{\n",
              "\tposition:absolute;\n",
              "\ttop:320px;\n",
              "\tleft:910px;\n",
              "\tcolor:black;\n",
              "\tfont-weight:bold;\n",
              "}\n",
              "\n",
              "#image1\n",
              "{\n",
              "\twidth:400px;\n",
              "\theight: 160px;\n",
              "}\n",
              "\n",
              "#image2\n",
              "{\n",
              "\twidth:400px;\n",
              "\theight: 160px;\n",
              "}\n",
              "\n",
              "#countdown\n",
              "{\n",
              "\tposition:absolute;\n",
              "\ttop:400px;\n",
              "\tleft:620px;\n",
              "\tfont-weight:bold;\n",
              "\tfont-size:40px;\n",
              "}\n",
              "\n",
              "#start\n",
              "{\n",
              "\tposition:absolute;\n",
              "\ttop:460px;\n",
              "\tleft:580px;\n",
              "\twidth:100px;\n",
              "}\n",
              "\n",
              "#trafficsignal {\n",
              "    background: #111;\n",
              "    background-image: linear-gradient(transparent 3%,#111 30%);\n",
              "    width: 70px;\n",
              "    height: 160px;\n",
              "    border-radius: 20px;\n",
              "    position: relative;\n",
              "\t  top:370px;\n",
              "\t  left:250px;\n",
              "    border: 5px solid #333;\n",
              "}\n",
              "\n",
              "#trafficsignal1 {\n",
              "    background: #111;\n",
              "    background-image: linear-gradient(transparent 3%,#111 30%);\n",
              "    width: 70px;\n",
              "    height: 160px;\n",
              "    border-radius: 20px;\n",
              "    position: relative;\n",
              "\t  top:200px;\n",
              "\t  left:910px;\n",
              "    border: 5px solid #333;\n",
              "}\n",
              "\n",
              "#protector {\n",
              "    background: transparent;\n",
              "    width: 80px;\n",
              "    height: 0px;\n",
              "    position: absolute;\n",
              "    top: 10px;\n",
              "    left: -35px;\n",
              "    border-right: 30px solid transparent;\n",
              "    border-left: 30px solid transparent;\n",
              "    border-top: 90px solid #111;\n",
              "    border-radius: 10px;\n",
              "    z-index: -1;\n",
              "}\n",
              "\n",
              "#protector1 {\n",
              "    background: transparent;\n",
              "    width: 80px;\n",
              "    height: 0px;\n",
              "    position: absolute;\n",
              "    top: 10px;\n",
              "    left: -35px;\n",
              "    border-right: 30px solid transparent;\n",
              "    border-left: 30px solid transparent;\n",
              "    border-top: 90px solid #111;\n",
              "    border-radius: 10px;\n",
              "    z-index: -1;\n",
              "}\n",
              "\n",
              "#red {\n",
              "    background: red;\n",
              "    background-image: radial-gradient(brown,transparent);\n",
              "    background-size: 5px 5px;\n",
              "    width: 40px;\n",
              "    height: 40px;\n",
              "    border-radius: 100%;\n",
              "    position: absolute;\n",
              "    top: 8px;\n",
              "    left: 15px;\n",
              "    border:2px dotted red;\n",
              "    box-shadow:inset 0 0 20px #111,0 0 10px red;\n",
              "    //animation: red 15s infinite;\n",
              "}\n",
              "\n",
              "#yellow {\n",
              "    background: yellow;\n",
              "    background-image: radial-gradient(orange,transparent);\n",
              "    background-size: 5px 5px;\n",
              "    width: 40px;\n",
              "    height: 40px;\n",
              "    border-radius: 100%;\n",
              "    position: absolute;\n",
              "    top: 59px;\n",
              "    left: 15px;\n",
              "    border:2px dotted yellow;\n",
              "    box-shadow:inset 0 0 20px #111,0 0 10px yellow;\n",
              "    //animation: yellow 15s infinite;\n",
              "}\n",
              "\n",
              "#yellow1 {\n",
              "    background: yellow;\n",
              "    background-image: radial-gradient(orange,transparent);\n",
              "    background-size: 5px 5px;\n",
              "    width: 40px;\n",
              "    height: 40px;\n",
              "    border-radius: 100%;\n",
              "    position: absolute;\n",
              "    top: 59px;\n",
              "    left: 15px;\n",
              "    border:2px dotted yellow;\n",
              "    box-shadow:inset 0 0 20px #111,0 0 10px yellow;\n",
              "    //animation: yellow 15s infinite;\n",
              "}\n",
              "\n",
              "#green {\n",
              "    background: green;\n",
              "    background-image: radial-gradient(lime,transparent);\n",
              "    background-size: 5px 5px;\n",
              "    width: 40px;\n",
              "    height: 40px;\n",
              "    border-radius: 100%;\n",
              "    position: absolute;\n",
              "    top: 110px;\n",
              "    left: 15px;\n",
              "    border:2px dotted green;\n",
              "    box-shadow:inset 0 0 20px #111,0 0 10px green;\n",
              "    //animation: green 15s infinite;\n",
              "}\n",
              "  \n",
              "  .status[data-status=5]:after\n",
              "  {\n",
              "\t  content : \" Count is 5 \";\n",
              "  }\n",
              "\n",
              "    </style>\n",
              "     \n",
              "</head>\n",
              "\n",
              "\n",
              "<body>\n",
              "\n",
              "  <h1 class=\"header\"> Intelligent Traffic Light Controller </h1>\n",
              "\t\n",
              "  <label id=\"l1\"> Camera - 1 </label>\n",
              "\n",
              "\t<div class=\"container\">\n",
              "\n",
              "    <br>\n",
              "\t\n",
              "\t\t<input type=\"file\"  accept=\"image/*\" name=\"image\" id=\"file\"  onchange=\"loadImage1(event)\" style=\"display: none;\">\n",
              "\t\t\n",
              "\t\t<div class=\"innerDiv\"> <img id=\"image1\"/> </div> <br> <br>\n",
              "\t\t\n",
              "\t</div>\n",
              "\t\n",
              "\t<label id=\"l2\" for=\"file\" style=\"cursor: pointer; border 1px solid white;\"> Upload Image </label>\n",
              "\n",
              "  <label id=\"l3\"> Camera - 2 </label>\n",
              "\t\n",
              "\t<div class=\"container1\">\n",
              "\t\t\n",
              "\t\t<br> \n",
              "\t\n",
              "\t\t<input type=\"file\"  accept=\"image/*\" name=\"image\" id=\"file1\"  onchange=\"loadImage2(event)\" style=\"display: none;\">\n",
              "\t\t\n",
              "\t\t<div class=\"innerDiv1\"> <img id=\"image2\" width=\"200\"/> </div> <br> <br>\n",
              "\t\t\n",
              "\t</div>\n",
              "\t\n",
              "\t<label id=\"l4\" for=\"file1\" style=\"cursor: pointer; border 1px solid white;\"> Upload Image </label>\n",
              "\n",
              "\t<button id=\"start\" onclick=\"startNorm()\"> Start </button>\n",
              "\t\n",
              "\t<label data-status=\"{timeleft}\" class=\"status\" id=\"countdown\"> 0 </label>\n",
              "\t\n",
              "\t\n",
              "\t<div id=\"trafficsignal\">\n",
              "\n",
              "            <div id=\"protector\"></div>\n",
              "            <div id=\"protector\"></div>\n",
              "            <div id=\"protector\"></div>\n",
              "\n",
              "            <div id=\"left_red\"></div>\n",
              "               \n",
              "            <div id=\"left_yellow\"></div>\n",
              "\n",
              "            <div id=\"left_green\"></div>\n",
              " \n",
              "  </div>\n",
              "\t\n",
              "\t<div id=\"trafficsignal1\">\n",
              "\n",
              "            <div id=\"protector1\"></div>\n",
              "            <div id=\"protector1\"></div>\n",
              "            <div id=\"protector1\"></div>\n",
              "\n",
              "            <div id=\"right_red\"></div>\n",
              "\n",
              "            <div id=\"right_yellow\"></div>\n",
              "\n",
              "            <div id=\"right_green\"></div>\n",
              " \n",
              "  </div>\n",
              "\n",
              "  <p></p>\n",
              "\t<script>\n",
              "\t\t\n",
              "\t\tvar loadImage1 = function(event) \n",
              "\t\t{\n",
              "\t\t\tvar image = document.getElementById('image1');\n",
              "\t\t\timage.src = URL.createObjectURL(event.target.files[0]);\n",
              "\t\t};\n",
              "\t\t\n",
              "\t\tvar loadImage2 = function(event) \n",
              "\t\t{\n",
              "\t\t\tvar image = document.getElementById('image2');\n",
              "\t\t\timage.src = URL.createObjectURL(event.target.files[0]);\n",
              "\t\t};\n",
              "\t\t\n",
              "\t\tfunction startNorm()\n",
              "\t\t{\n",
              "      var count1=1\n",
              "      var count2=2\n",
              "\t\t\tvar timeleft = 9;\n",
              "      var flag=0;\n",
              "\t\t\n",
              "      var downloadTimer = setInterval(function(){\n",
              "\t\t\tdocument.getElementById(\"countdown\").innerHTML = timeleft;\n",
              "\t\t\ttimeleft -= 1;\n",
              "\t\t\t\n",
              "      if(timeleft == -1){\n",
              "        if(document.getElementById(\"yellow\") && document.getElementById(\"yellow1\"))\n",
              "        {\n",
              "          document.getElementById(\"yellow\").setAttribute('id','left_yellow');\n",
              "          document.getElementById(\"yellow1\").setAttribute('id','right_yellow')\n",
              "        }\n",
              "        timeleft=30;\n",
              "        document.getElementById(\"left_red\").setAttribute('id','red');\n",
              "        document.getElementById(\"right_green\").setAttribute('id','green');\n",
              "      }\n",
              "\n",
              "      else if(timeleft == 19)\n",
              "      {\n",
              "        document.getElementById(\"red\").setAttribute('id','left_red');\n",
              "        document.getElementById(\"left_yellow\").setAttribute('id','yellow');\n",
              "\n",
              "        document.getElementById(\"green\").setAttribute('id','right_green');\n",
              "        document.getElementById(\"right_yellow\").setAttribute('id','yellow');\n",
              "      }\n",
              "\n",
              "      else if(timeleft == 14)\n",
              "      {\n",
              "        document.getElementById(\"yellow\").setAttribute('id','left_yellow');\n",
              "        document.getElementById(\"left_green\").setAttribute('id','green');\n",
              "\n",
              "        document.getElementById(\"yellow\").setAttribute('id','right_yellow');\n",
              "        document.getElementById(\"right_red\").setAttribute('id','red');\n",
              "      }\n",
              "\n",
              "      else if(timeleft == 4)\n",
              "      {\n",
              "        document.getElementById(\"green\").setAttribute('id','left_green');\n",
              "        document.getElementById(\"left_yellow\").setAttribute('id','yellow');\n",
              "\n",
              "        document.getElementById(\"red\").setAttribute('id','right_red');\n",
              "        document.getElementById(\"right_yellow\").setAttribute('id','yellow1');\n",
              "      }\n",
              "\n",
              "\t\t}, 1000);\n",
              "\t\t}\n",
              "\t</script>\n",
              "  \n",
              "</body>\n",
              "\n",
              "  <p>hai 1</p>\n",
              "  <p>hai 2</p>"
            ],
            "text/plain": [
              "<IPython.core.display.HTML object>"
            ]
          },
          "metadata": {
            "tags": []
          }
        }
      ]
    }
  ]
}
